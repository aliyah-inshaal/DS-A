{
  "metadata": {
    "language_info": {
      "codemirror_mode": {
        "name": "python",
        "version": 3
      },
      "file_extension": ".py",
      "mimetype": "text/x-python",
      "name": "python",
      "nbconvert_exporter": "python",
      "pygments_lexer": "ipython3",
      "version": "3.8"
    },
    "kernelspec": {
      "name": "python",
      "display_name": "Python (Pyodide)",
      "language": "python"
    }
  },
  "nbformat_minor": 4,
  "nbformat": 4,
  "cells": [
    {
      "cell_type": "code",
      "source": "#TASK#01\n# Write two lines of code below, each assigning a value to a variable\nage=22\nname=\"Aliyah\"",
      "metadata": {
        "trusted": true
      },
      "execution_count": 6,
      "outputs": []
    },
    {
      "cell_type": "code",
      "source": "# Now write a print statement using .format() to print out a sentence and the \n#   values of both of the variables\nprint(\"Hello my name is {0} and i am {1} years old\".format(name,age))",
      "metadata": {
        "trusted": true
      },
      "execution_count": 7,
      "outputs": [
        {
          "name": "stdout",
          "text": "Hello my name is Aliyah and i am 22 years old\n",
          "output_type": "stream"
        }
      ]
    },
    {
      "cell_type": "code",
      "source": "#Task#2\n# Browse the complete list of string methods at:# https://docs.python.org/3/library/stdtypes.html#string-methods\n# and try them out here\nobj = \"hello woRLD!\"\nprint(obj.capitalize())\nprint(obj.casefold())\nprint(obj.expandtabs(tabsize=8))\nprint(obj.isalpha())",
      "metadata": {
        "trusted": true
      },
      "execution_count": 20,
      "outputs": [
        {
          "name": "stdout",
          "text": "Hello world!\nhello world!\nhello woRLD!\nFalse\n",
          "output_type": "stream"
        }
      ]
    },
    {
      "cell_type": "code",
      "source": "#Task#03\n# use list indexing to determine the number of days in monthprint(num_days)\nmonth = int(input(\"Enter an integer as input: \"))\nnew=month-1\ndays_in_month = [31,28,31,30,31,30,31,31,30,31,30,31]\nprint(days_in_month[new])\n",
      "metadata": {
        "trusted": true
      },
      "execution_count": 28,
      "outputs": []
    },
    {
      "cell_type": "code",
      "source": "#Task#04\neclipse_dates = ['June 21, 2001', 'December 4, 2002', 'November 23, 2003',\n                 'March 29, 2006', 'August 1, 2008', 'July 22, 2009',\n                 'July 11, 2010', 'November 13, 2012', 'March 20, 2015',\n                 'March 9, 2016']\n\nrecent_dates = eclipse_dates[-3:]\nprint(recent_dates)",
      "metadata": {
        "trusted": true
      },
      "execution_count": 29,
      "outputs": [
        {
          "name": "stdout",
          "text": "['November 13, 2012', 'March 20, 2015', 'March 9, 2016']\n",
          "output_type": "stream"
        }
      ]
    },
    {
      "cell_type": "code",
      "source": "#Task#05\nstudents = {\n    \"student1\": {\n        \"name\": \"Aliyah\",\n        \"age\": 21,\n        \"grade\": \"A\"\n    },\n    \"student2\": {\n        \"name\": \"Anousha\",\n        \"age\": 12,\n        \"grade\": \"A\"\n    },\n    \"student3\": {\n        \"name\": \"Lisa\",\n        \"age\": 19,\n        \"grade\": \"B+\"\n    }\n}\n\n# Accessing student data\nprint(students[\"student1\"][\"name\"])\nprint(students[\"student2\"][\"age\"])\nprint(students[\"student3\"][\"grade\"])\n\n# Modifying student data\nstudents[\"student1\"][\"age\"] = 19\nstudents[\"student2\"][\"grade\"] = \"A\"\n\n# Adding a new student\nstudents[\"student4\"] = {\n    \"name\": \"Aishaa\",\n    \"age\": 14,\n    \"grade\": \"A+\"\n}\n\n# Deleting a student\ndel students[\"student3\"]\n\n# Iterating over all students\nfor student_id, student_data in students.items():\n    print(f\"Student ID: {student_id}\")\n    print(f\"Name: {student_data['name']}\")\n    print(f\"Age: {student_data['age']}\")\n    print(f\"Grade: {student_data['grade']}\")\n    print(\"---\")",
      "metadata": {
        "trusted": true
      },
      "execution_count": 31,
      "outputs": [
        {
          "name": "stdout",
          "text": "Aliyah\n12\nB+\nStudent ID: student1\nName: Aliyah\nAge: 19\nGrade: A\n---\nStudent ID: student2\nName: Anousha\nAge: 12\nGrade: A\n---\nStudent ID: student4\nName: Aishaa\nAge: 14\nGrade: A+\n---\n",
          "output_type": "stream"
        }
      ]
    },
    {
      "cell_type": "code",
      "source": "",
      "metadata": {},
      "execution_count": null,
      "outputs": []
    }
  ]
}