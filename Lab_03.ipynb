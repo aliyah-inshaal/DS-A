{
  "nbformat": 4,
  "nbformat_minor": 0,
  "metadata": {
    "colab": {
      "provenance": [],
      "authorship_tag": "ABX9TyOPP2wY77RFyXg2VdSFlPy9",
      "include_colab_link": true
    },
    "kernelspec": {
      "name": "python3",
      "display_name": "Python 3"
    },
    "language_info": {
      "name": "python"
    }
  },
  "cells": [
    {
      "cell_type": "markdown",
      "metadata": {
        "id": "view-in-github",
        "colab_type": "text"
      },
      "source": [
        "<a href=\"https://colab.research.google.com/github/aliyah-inshaal/DS-A/blob/main/Lab_03.ipynb\" target=\"_parent\"><img src=\"https://colab.research.google.com/assets/colab-badge.svg\" alt=\"Open In Colab\"/></a>"
      ]
    },
    {
      "cell_type": "code",
      "execution_count": 1,
      "metadata": {
        "colab": {
          "base_uri": "https://localhost:8080/"
        },
        "id": "Lt9hFEsXAy_h",
        "outputId": "d31f93bf-f089-4c2b-b219-24c341fa3ffc"
      },
      "outputs": [
        {
          "output_type": "stream",
          "name": "stdout",
          "text": [
            "expected result: 10, actual result: 10.0\n",
            "expected result: 7123.6902801, actual result: 7123.690280065897\n"
          ]
        }
      ],
      "source": [
        "#TASK 1\n",
        "\n",
        "def population_density(population, land_area):\n",
        "    return population / land_area\n",
        "\n",
        "# test cases for your function\n",
        "test1 = population_density(10, 1)\n",
        "expected_result1 = 10\n",
        "print(\"expected result: {}, actual result: {}\".format(expected_result1, test1))\n",
        "\n",
        "test2 = population_density(864816, 121.4)\n",
        "expected_result2 = 7123.6902801\n",
        "print(\"expected result: {}, actual result: {}\".format(expected_result2, test2))"
      ]
    },
    {
      "cell_type": "code",
      "source": [
        "#TASK 2\n",
        "\n",
        "def readable_timedelta(days):\n",
        "    weeks = days // 7\n",
        "    remaining_days = days % 7\n",
        "    return \"{} week(s) and {} day(s)\".format(weeks, remaining_days)\n",
        "\n",
        "# test your function\n",
        "print(readable_timedelta(10))"
      ],
      "metadata": {
        "colab": {
          "base_uri": "https://localhost:8080/"
        },
        "id": "QD5EolnKEWeh",
        "outputId": "2da844f8-cd22-4641-a515-5627e3d2f6ed"
      },
      "execution_count": 2,
      "outputs": [
        {
          "output_type": "stream",
          "name": "stdout",
          "text": [
            "1 week(s) and 3 day(s)\n"
          ]
        }
      ]
    },
    {
      "cell_type": "code",
      "source": [
        "#TASK 3\n",
        "\n",
        "numbers = [\n",
        "    [34, 63, 88, 71, 29],\n",
        "    [90, 78, 51, 27, 45],\n",
        "    [63, 37, 85, 46, 22],\n",
        "    [51, 22, 34, 11, 18]\n",
        "]\n",
        "\n",
        "# Using lambda expression within map() to calculate mean\n",
        "averages = list(map(lambda num_list: sum(num_list) / len(num_list), numbers))\n",
        "\n",
        "print(averages)"
      ],
      "metadata": {
        "colab": {
          "base_uri": "https://localhost:8080/"
        },
        "id": "Yv_1J-7jEg5-",
        "outputId": "8c79bd5b-faf3-44b2-d637-c916160271b8"
      },
      "execution_count": 3,
      "outputs": [
        {
          "output_type": "stream",
          "name": "stdout",
          "text": [
            "[57.0, 58.2, 50.6, 27.2]\n"
          ]
        }
      ]
    },
    {
      "cell_type": "code",
      "source": [
        "#TASK 4\n",
        "\n",
        "cities = [\"New York City\", \"Los Angeles\", \"Chicago\", \"Mountain View\", \"Denver\", \"Boston\"]\n",
        "\n",
        "# Using lambda expression within filter() to filter short names\n",
        "short_cities = list(filter(lambda name: len(name) < 10, cities))\n",
        "\n",
        "print(short_cities)"
      ],
      "metadata": {
        "colab": {
          "base_uri": "https://localhost:8080/"
        },
        "id": "O69KTlBREkF-",
        "outputId": "042a773a-9c2e-4210-9a03-dcdff0a2b88a"
      },
      "execution_count": 4,
      "outputs": [
        {
          "output_type": "stream",
          "name": "stdout",
          "text": [
            "['Chicago', 'Denver', 'Boston']\n"
          ]
        }
      ]
    },
    {
      "cell_type": "code",
      "source": [
        "#TASK 5\n",
        "\n",
        "# Get and process input for a list of names\n",
        "names_input = input(\"Enter a list of student names separated by commas: \")\n",
        "names = names_input.split(\",\")\n",
        "\n",
        "# Get and process input for a list of the number of missing assignments\n",
        "assignments_input = input(\"Enter a list of the number of missing assignments separated by commas: \")\n",
        "assignments = list(map(int, assignments_input.split(\",\")))\n",
        "\n",
        "# Get and process input for a list of grades\n",
        "grades_input = input(\"Enter a list of grades separated by commas: \")\n",
        "grades = list(map(float, grades_input.split(\",\")))\n",
        "\n",
        "# Message string to be used for each student\n",
        "# HINT: use .format() with this string in your for loop\n",
        "message = \"Hi {},\\n\\nThis is a reminder that you have {} assignments left to submit before you can graduate. Your current grade is {} and can increase to {} if you submit all assignments before the due date.\\n\\n\"\n",
        "\n",
        "# Write a for loop that iterates through each set of names, assignments, and grades to print each student's message\n",
        "for name, missing_assignments, grade in zip(names, assignments, grades):\n",
        "    potential_grade = grade + 2 * missing_assignments\n",
        "    print(message.format(name, missing_assignments, grade, potential_grade))"
      ],
      "metadata": {
        "colab": {
          "base_uri": "https://localhost:8080/"
        },
        "id": "AltMmbLFEqsF",
        "outputId": "89d5e9eb-a296-4963-ea71-f23869852c6e"
      },
      "execution_count": 6,
      "outputs": [
        {
          "output_type": "stream",
          "name": "stdout",
          "text": [
            "Enter a list of student names separated by commas: aliyah, anousha\n",
            "Enter a list of the number of missing assignments separated by commas: 1,2\n",
            "Enter a list of grades separated by commas: 2.5,3\n",
            "Hi aliyah,\n",
            "\n",
            "This is a reminder that you have 1 assignments left to submit before you can graduate. Your current grade is 2.5 and can increase to 4.5 if you submit all assignments before the due date.\n",
            "\n",
            "\n",
            "Hi  anousha,\n",
            "\n",
            "This is a reminder that you have 2 assignments left to submit before you can graduate. Your current grade is 3.0 and can increase to 7.0 if you submit all assignments before the due date.\n",
            "\n",
            "\n"
          ]
        }
      ]
    },
    {
      "cell_type": "code",
      "source": [
        "#TASK 6\n",
        "\n",
        "camelot_lines = []\n",
        "\n",
        "with open(\"camelot.txt\") as f:\n",
        "  for line in f:camelot_lines.append(line.strip())\n",
        "  print(camelot_lines)"
      ],
      "metadata": {
        "id": "z97vrPV6Gne1"
      },
      "execution_count": null,
      "outputs": []
    },
    {
      "cell_type": "code",
      "source": [
        "#TASK 7\n",
        "\n",
        "def create_cast_list(filename):\n",
        "    cast_list = []\n",
        "    with open(filename, 'r') as file:\n",
        "        for line in file:\n",
        "            # Split each line by comma and take the first element (actor's name)\n",
        "            actor_name = line.strip().split(',')[0]\n",
        "            cast_list.append(actor_name)\n",
        "    return cast_list\n",
        "\n",
        "cast_list = create_cast_list('flying_circus_cast.txt')\n",
        "for actor in cast_list:\n",
        "    print(actor)"
      ],
      "metadata": {
        "id": "Rc8_Cq1sGqFF"
      },
      "execution_count": null,
      "outputs": []
    }
  ]
}