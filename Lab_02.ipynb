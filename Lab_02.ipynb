{
  "nbformat": 4,
  "nbformat_minor": 0,
  "metadata": {
    "colab": {
      "provenance": [],
      "authorship_tag": "ABX9TyPvDgb9/FLKZsWdIl1RrTsL",
      "include_colab_link": true
    },
    "kernelspec": {
      "name": "python3",
      "display_name": "Python 3"
    },
    "language_info": {
      "name": "python"
    }
  },
  "cells": [
    {
      "cell_type": "markdown",
      "metadata": {
        "id": "view-in-github",
        "colab_type": "text"
      },
      "source": [
        "<a href=\"https://colab.research.google.com/github/aliyah-inshaal/DS-A/blob/main/Lab_02.ipynb\" target=\"_parent\"><img src=\"https://colab.research.google.com/assets/colab-badge.svg\" alt=\"Open In Colab\"/></a>"
      ]
    },
    {
      "cell_type": "code",
      "execution_count": 1,
      "metadata": {
        "colab": {
          "base_uri": "https://localhost:8080/"
        },
        "id": "3rdjFaQzVouD",
        "outputId": "e06e2410-a5d9-4f99-fda2-7687a4521b51"
      },
      "outputs": [
        {
          "output_type": "stream",
          "name": "stdout",
          "text": [
            "Enter your age20\n",
            "2.5\n"
          ]
        }
      ],
      "source": [
        "phone_balance = 10\n",
        "bank_balance = 50\n",
        "if phone_balance < 10:\n",
        "  phone_balance += 10\n",
        "  bank_balance -= 10\n",
        "  print(phone_balance)\n",
        "  print(bank_balance)\n",
        "\n",
        "age = int(input(\"Enter your age\"))\n",
        "free_up_to_age = 4\n",
        "child_up_to_age = 18\n",
        "senior_from_age = 65\n",
        "concession_ticket = 1.25\n",
        "adult_ticket = 2.50\n",
        "if age <= free_up_to_age:\n",
        "  ticket_price = 0\n",
        "elif age <= child_up_to_age:\n",
        "  ticket_price = concession_ticket\n",
        "elif age >= senior_from_age:\n",
        "  ticket_price = concession_ticket\n",
        "else:\n",
        "  ticket_price = adult_ticket\n",
        "\n",
        "print(ticket_price)"
      ]
    },
    {
      "cell_type": "code",
      "source": [
        "cities = [\"HYD\",\"KHI\",\"LHR\",\"ISL\"]\n",
        "for i in range(1,10):\n",
        "  print(i)\n",
        "\n",
        "for city in cities:\n",
        "  print(city)\n",
        "\n",
        "list = []\n",
        "list2 = []\n",
        "for i in range(1,30):\n",
        "  if i%2 == 0:\n",
        "    list.append(i**2)\n",
        "  else:\n",
        "    list2.append(i**3)\n",
        "print(list)\n",
        "print(list2)"
      ],
      "metadata": {
        "colab": {
          "base_uri": "https://localhost:8080/"
        },
        "id": "Az7nb0HTWDJk",
        "outputId": "21c865a2-13cd-4d76-d284-fa92b3aade6b"
      },
      "execution_count": 2,
      "outputs": [
        {
          "output_type": "stream",
          "name": "stdout",
          "text": [
            "1\n",
            "2\n",
            "3\n",
            "4\n",
            "5\n",
            "6\n",
            "7\n",
            "8\n",
            "9\n",
            "HYD\n",
            "KHI\n",
            "LHR\n",
            "ISL\n",
            "[4, 16, 36, 64, 100, 144, 196, 256, 324, 400, 484, 576, 676, 784]\n",
            "[1, 27, 125, 343, 729, 1331, 2197, 3375, 4913, 6859, 9261, 12167, 15625, 19683, 24389]\n"
          ]
        }
      ]
    },
    {
      "cell_type": "code",
      "source": [
        "list3 = [i**2 if i%2==0 else i+3 for i in range(1,30)]\n",
        "list3"
      ],
      "metadata": {
        "colab": {
          "base_uri": "https://localhost:8080/"
        },
        "id": "0aTdTSmcWIcJ",
        "outputId": "278d97b7-f510-4ee6-dd3c-22ec2d8e1d27"
      },
      "execution_count": 3,
      "outputs": [
        {
          "output_type": "execute_result",
          "data": {
            "text/plain": [
              "[4,\n",
              " 4,\n",
              " 6,\n",
              " 16,\n",
              " 8,\n",
              " 36,\n",
              " 10,\n",
              " 64,\n",
              " 12,\n",
              " 100,\n",
              " 14,\n",
              " 144,\n",
              " 16,\n",
              " 196,\n",
              " 18,\n",
              " 256,\n",
              " 20,\n",
              " 324,\n",
              " 22,\n",
              " 400,\n",
              " 24,\n",
              " 484,\n",
              " 26,\n",
              " 576,\n",
              " 28,\n",
              " 676,\n",
              " 30,\n",
              " 784,\n",
              " 32]"
            ]
          },
          "metadata": {},
          "execution_count": 3
        }
      ]
    },
    {
      "cell_type": "code",
      "source": [
        "points = 174\n",
        "\n",
        "if points <= 50:\n",
        "    result = \"Congrats wooden rabbit!\"\n",
        "elif points <= 150:\n",
        "    result = \"No prize ):\"\n",
        "elif points <= 180:\n",
        "    result = \"Congrats! You won a wafer-thin mint!\"\n",
        "else:\n",
        "    result = \"Congrats! You won a penguin!\"\n",
        "\n",
        "print(result)"
      ],
      "metadata": {
        "colab": {
          "base_uri": "https://localhost:8080/"
        },
        "id": "csBV6rEzWK5Z",
        "outputId": "52ed2096-5d3f-4513-8a7e-40d9f3b5db0d"
      },
      "execution_count": 4,
      "outputs": [
        {
          "output_type": "stream",
          "name": "stdout",
          "text": [
            "Congrats! You won a wafer-thin mint!\n"
          ]
        }
      ]
    },
    {
      "cell_type": "code",
      "source": [
        "# Task # 02\n",
        "\n",
        "# Assuming 'answer' contains the number you are hiding and 'guess' contains the user's input\n",
        "\n",
        "answer = 42  # You can replace this with any number you want to hide\n",
        "\n",
        "# Get the user's guess as input\n",
        "guess = int(input(\"Take a guess: \"))\n",
        "\n",
        "# Compare the user's guess to the answer\n",
        "if guess < answer:\n",
        "    print(\"Your guess was too low.\")\n",
        "elif guess > answer:\n",
        "    print(\"Your guess was too high.\")\n",
        "else:\n",
        "    print(\"Congratulations! You guessed the correct number!\")\n"
      ],
      "metadata": {
        "colab": {
          "base_uri": "https://localhost:8080/"
        },
        "id": "LmPyPXIwWOQZ",
        "outputId": "18fd4815-9518-4174-b736-1eae5ff7c9f8"
      },
      "execution_count": 5,
      "outputs": [
        {
          "output_type": "stream",
          "name": "stdout",
          "text": [
            "Take a guess: 3\n",
            "Your guess was too low.\n"
          ]
        }
      ]
    },
    {
      "cell_type": "code",
      "source": [
        "# Task # 03\n",
        "\n",
        "def calculate_tax(state, amount):\n",
        "    # Dictionary to store the tax rates for each state\n",
        "    tax_rates = {\n",
        "        'CA': 0.075,\n",
        "        'MN': 0.095,\n",
        "        'NY': 0.089\n",
        "    }\n",
        "\n",
        "    # Check if the provided state exists in the tax_rates dictionary\n",
        "    if state in tax_rates:\n",
        "        tax_rate = tax_rates[state]\n",
        "        tax_amount = amount * tax_rate\n",
        "        total_amount = amount + tax_amount\n",
        "        return total_amount\n",
        "    else:\n",
        "        raise ValueError(\"Invalid state. Tax rate for the provided state is not available.\")\n",
        "\n",
        "# Example usage:\n",
        "state = input(\"Enter your state (CA, MN, or NY): \")\n",
        "amount = float(input(\"Enter the purchase amount: \"))\n",
        "\n",
        "try:\n",
        "    total_amount_with_tax = calculate_tax(state, amount)\n",
        "    print(f\"Total amount with tax: ${total_amount_with_tax:.2f}\")\n",
        "except ValueError as e:\n",
        "    print(str(e))\n"
      ],
      "metadata": {
        "colab": {
          "base_uri": "https://localhost:8080/"
        },
        "id": "E_PyJUz1WV2U",
        "outputId": "1b3e61f8-1fbe-4c39-a819-c19079dc206c"
      },
      "execution_count": 6,
      "outputs": [
        {
          "output_type": "stream",
          "name": "stdout",
          "text": [
            "Enter your state (CA, MN, or NY): CA\n",
            "Enter the purchase amount: 4300\n",
            "Total amount with tax: $4622.50\n"
          ]
        }
      ]
    },
    {
      "cell_type": "code",
      "source": [
        "# Task # 04\n",
        "\n",
        "sentence = [\"the\", \"quick\", \"brown\", \"fox\", \"jumped\", \"over\", \"the\", \"lazy\", \"dog\"]\n",
        "\n",
        "# Using a for loop to print each element of the list on its own line\n",
        "for word in sentence:\n",
        "    print(word)\n",
        "\n"
      ],
      "metadata": {
        "colab": {
          "base_uri": "https://localhost:8080/"
        },
        "id": "D8PO_8fVWa3G",
        "outputId": "81e34285-8fe4-4cf6-fae9-c1d3eef25dc7"
      },
      "execution_count": 7,
      "outputs": [
        {
          "output_type": "stream",
          "name": "stdout",
          "text": [
            "the\n",
            "quick\n",
            "brown\n",
            "fox\n",
            "jumped\n",
            "over\n",
            "the\n",
            "lazy\n",
            "dog\n"
          ]
        }
      ]
    },
    {
      "cell_type": "code",
      "source": [
        "# Task # 05\n",
        "\n",
        "# Using a for loop to print multiples of 5 less than or equal to 30\n",
        "for number in range(5, 31, 5):\n",
        "    print(number)\n"
      ],
      "metadata": {
        "colab": {
          "base_uri": "https://localhost:8080/"
        },
        "id": "BNhtGN5yWeJN",
        "outputId": "12bedfb7-3331-49a4-8895-f95aeb407baa"
      },
      "execution_count": 8,
      "outputs": [
        {
          "output_type": "stream",
          "name": "stdout",
          "text": [
            "5\n",
            "10\n",
            "15\n",
            "20\n",
            "25\n",
            "30\n"
          ]
        }
      ]
    },
    {
      "cell_type": "code",
      "source": [
        "# Task # 06\n",
        "\n",
        "names = [\"Rick Sanchez\", \"Morty Smith\", \"Summer Smith\", \"Jerry Smith\", \"Beth Smith\"]\n",
        "\n",
        "# Using list comprehension to extract the first names in lowercase\n",
        "first_names = [name.split()[0].lower() for name in names]\n",
        "\n",
        "print(first_names)"
      ],
      "metadata": {
        "colab": {
          "base_uri": "https://localhost:8080/"
        },
        "id": "RxGMkchHWgWD",
        "outputId": "42aa1735-918b-4bda-c8af-15679a1ebd23"
      },
      "execution_count": 9,
      "outputs": [
        {
          "output_type": "stream",
          "name": "stdout",
          "text": [
            "['rick', 'morty', 'summer', 'jerry', 'beth']\n"
          ]
        }
      ]
    },
    {
      "cell_type": "code",
      "source": [
        "# Task # 07\n",
        "\n",
        "# Using list comprehension to create a list of the first 20 multiples of 3\n",
        "multiples_3 = [num * 3 for num in range(1, 21)]\n",
        "\n",
        "print(multiples_3)"
      ],
      "metadata": {
        "colab": {
          "base_uri": "https://localhost:8080/"
        },
        "id": "u5achchBWiY9",
        "outputId": "d9386e14-b144-4bf3-cf0e-0fbbb7ce46e2"
      },
      "execution_count": 10,
      "outputs": [
        {
          "output_type": "stream",
          "name": "stdout",
          "text": [
            "[3, 6, 9, 12, 15, 18, 21, 24, 27, 30, 33, 36, 39, 42, 45, 48, 51, 54, 57, 60]\n"
          ]
        }
      ]
    },
    {
      "cell_type": "code",
      "source": [
        "# Task # 08\n",
        "\n",
        "scores = {\n",
        "    \"Rick Sanchez\": 70,\n",
        "    \"Morty Smith\": 35,\n",
        "    \"Summer Smith\": 82,\n",
        "    \"Jerry Smith\": 23,\n",
        "    \"Beth Smith\": 98\n",
        "}\n",
        "\n",
        "# Using list comprehension to filter names of individuals who scored at least 65\n",
        "passed = [name for name, score in scores.items() if score >= 65]\n",
        "\n",
        "print(passed)\n"
      ],
      "metadata": {
        "colab": {
          "base_uri": "https://localhost:8080/"
        },
        "id": "_jmz10KtWkey",
        "outputId": "d003a9ed-2421-4cc4-fc9c-6dd85c402a7a"
      },
      "execution_count": 11,
      "outputs": [
        {
          "output_type": "stream",
          "name": "stdout",
          "text": [
            "['Rick Sanchez', 'Summer Smith', 'Beth Smith']\n"
          ]
        }
      ]
    },
    {
      "cell_type": "code",
      "source": [
        "# Task # 09\n",
        "\n",
        "cast_names = [\"Barney\", \"Robin\", \"Ted\", \"Lily\", \"Marshall\"]\n",
        "cast_heights = [72, 68, 72, 66, 76]\n",
        "\n",
        "# Using zip() to create the dictionary 'cast'\n",
        "cast = dict(zip(cast_names, cast_heights))\n",
        "\n",
        "print(cast)\n"
      ],
      "metadata": {
        "colab": {
          "base_uri": "https://localhost:8080/"
        },
        "id": "OxQdOg50Wm17",
        "outputId": "25aa98ac-f095-48ba-a5f8-456ae134f364"
      },
      "execution_count": 12,
      "outputs": [
        {
          "output_type": "stream",
          "name": "stdout",
          "text": [
            "{'Barney': 72, 'Robin': 68, 'Ted': 72, 'Lily': 66, 'Marshall': 76}\n"
          ]
        }
      ]
    },
    {
      "cell_type": "code",
      "source": [
        "# Task # 10\n",
        "\n",
        "cast = [\"Barney Stinson\", \"Robin Scherbatsky\", \"Ted Mosby\", \"Lily Aldrin\", \"Marshall Eriksen\"]\n",
        "heights = [72, 68, 72, 66, 76]\n",
        "\n",
        "# Using enumerate() and a for loop to modify the 'cast' list\n",
        "for index, name in enumerate(cast):\n",
        "    height = heights[index]\n",
        "    cast[index] = f\"{name}{height}\"\n",
        "\n",
        "print(cast)"
      ],
      "metadata": {
        "id": "SBuehkcfWpDa",
        "outputId": "a9c81a70-14d4-4c87-8d82-5009b90edd20",
        "colab": {
          "base_uri": "https://localhost:8080/"
        }
      },
      "execution_count": 13,
      "outputs": [
        {
          "output_type": "stream",
          "name": "stdout",
          "text": [
            "['Barney Stinson72', 'Robin Scherbatsky68', 'Ted Mosby72', 'Lily Aldrin66', 'Marshall Eriksen76']\n"
          ]
        }
      ]
    }
  ]
}